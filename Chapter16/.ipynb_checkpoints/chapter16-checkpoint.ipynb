{
 "cells": [
  {
   "cell_type": "markdown",
   "metadata": {},
   "source": [
    "# Scientific Computing with Python (Second Edition)\n",
    "# Chapter 16\n",
    "## 16.1 What are symbolic computations?"
   ]
  },
  {
   "cell_type": "code",
   "execution_count": null,
   "metadata": {},
   "outputs": [],
   "source": [
    "from scipy.integrate import quad\n",
    "quad(lambda x : 1/(x**2+x+1),a=0, b=4)   "
   ]
  },
  {
   "cell_type": "markdown",
   "metadata": {},
   "source": [
    "### 16.1.1 Elaborating an example in SymPy"
   ]
  },
  {
   "cell_type": "code",
   "execution_count": 1,
   "metadata": {},
   "outputs": [],
   "source": [
    "from sympy import *\n",
    "init_printing()"
   ]
  },
  {
   "cell_type": "code",
   "execution_count": null,
   "metadata": {},
   "outputs": [],
   "source": [
    "x = symbols('x')\n",
    "f = Lambda(x, 1/(x**2 + x + 1))"
   ]
  },
  {
   "cell_type": "code",
   "execution_count": null,
   "metadata": {},
   "outputs": [],
   "source": [
    "integrate(f(x),x)    \n"
   ]
  },
  {
   "cell_type": "code",
   "execution_count": null,
   "metadata": {},
   "outputs": [],
   "source": [
    "pf = Lambda(x, integrate(f(x),x))\n",
    "diff(pf(x),x)"
   ]
  },
  {
   "cell_type": "code",
   "execution_count": null,
   "metadata": {},
   "outputs": [],
   "source": [
    "simplify(diff(pf(x),x)) "
   ]
  },
  {
   "cell_type": "code",
   "execution_count": null,
   "metadata": {},
   "outputs": [],
   "source": [
    "pf(4) - pf(0)     "
   ]
  },
  {
   "cell_type": "code",
   "execution_count": null,
   "metadata": {},
   "outputs": [],
   "source": [
    "(pf(4)-pf(0)).evalf()"
   ]
  },
  {
   "cell_type": "markdown",
   "metadata": {},
   "source": [
    "## 16.2 Basic elements of SymPy\n",
    "### 16.2.1 Symbols – the basis of all formulas"
   ]
  },
  {
   "cell_type": "code",
   "execution_count": null,
   "metadata": {},
   "outputs": [],
   "source": [
    "x, y, mass, torque = symbols('x y mass torque')"
   ]
  },
  {
   "cell_type": "code",
   "execution_count": null,
   "metadata": {},
   "outputs": [],
   "source": [
    "symbol_list=[symbols(l) for l in 'x y mass torque'.split()]\n",
    "symbol_list"
   ]
  },
  {
   "cell_type": "code",
   "execution_count": null,
   "metadata": {},
   "outputs": [],
   "source": [
    "x, y, mass, torque = symbol_list"
   ]
  },
  {
   "cell_type": "code",
   "execution_count": null,
   "metadata": {},
   "outputs": [],
   "source": [
    "row_index=symbols('i',integer=True)\n",
    "print(row_index**2)  # returns i**2"
   ]
  },
  {
   "cell_type": "code",
   "execution_count": null,
   "metadata": {},
   "outputs": [],
   "source": [
    "integervariables = symbols('i:l', integer=True)\n",
    "dimensions = symbols('m:n', integer=True)\n",
    "realvariables = symbols('x:z', real=True)"
   ]
  },
  {
   "cell_type": "code",
   "execution_count": null,
   "metadata": {},
   "outputs": [],
   "source": [
    "A = symbols('A1:3(1:4)')\n",
    "A"
   ]
  },
  {
   "cell_type": "markdown",
   "metadata": {},
   "source": [
    "### 16.2.2 Numbers"
   ]
  },
  {
   "cell_type": "code",
   "execution_count": null,
   "metadata": {},
   "outputs": [],
   "source": [
    "1/3  # returns 0.3333333333333333\n",
    "sympify(1)/sympify(3)  # returns '1/3'"
   ]
  },
  {
   "cell_type": "code",
   "execution_count": null,
   "metadata": {},
   "outputs": [],
   "source": [
    "Rational(1,3)"
   ]
  },
  {
   "cell_type": "markdown",
   "metadata": {},
   "source": [
    "### 16.2.3 Functions"
   ]
  },
  {
   "cell_type": "code",
   "execution_count": 2,
   "metadata": {},
   "outputs": [],
   "source": [
    "f, g = symbols('f g', cls=Function)"
   ]
  },
  {
   "cell_type": "code",
   "execution_count": 3,
   "metadata": {},
   "outputs": [],
   "source": [
    "f = Function('f')\n",
    "g = Function('g')"
   ]
  },
  {
   "cell_type": "code",
   "execution_count": 7,
   "metadata": {},
   "outputs": [
    {
     "data": {
      "image/png": "[encoded data removed]",
      "text/latex": [
       "$\\displaystyle \\left(x \\frac{d}{d x} g{\\left(x \\right)} + g{\\left(x \\right)}\\right) \\left. \\frac{d}{d \\xi_{1}} f{\\left(\\xi_{1} \\right)} \\right|_{\\substack{ \\xi_{1}=x g{\\left(x \\right)} }}$"
      ],
      "text/plain": [
       "⎛  d              ⎞ ⎛ d        ⎞│         \n",
       "⎜x⋅──(g(x)) + g(x)⎟⋅⎜───(f(ξ₁))⎟│         \n",
       "⎝  dx             ⎠ ⎝dξ₁       ⎠│ξ₁=x⋅g(x)"
      ]
     },
     "execution_count": 7,
     "metadata": {},
     "output_type": "execute_result"
    }
   ],
   "source": [
    "x = symbols('x')\n",
    "f, g = symbols('f g', cls=Function)\n",
    "diff(f(x*g(x)),x)"
   ]
  },
  {
   "cell_type": "code",
   "execution_count": 8,
   "metadata": {},
   "outputs": [
    {
     "data": {
      "image/png": "[encoded data removed]",
      "text/latex": [
       "$\\displaystyle f{\\left(x_{0},x_{1},x_{2} \\right)}$"
      ],
      "text/plain": [
       "f(x₀, x₁, x₂)"
      ]
     },
     "execution_count": 8,
     "metadata": {},
     "output_type": "execute_result"
    }
   ],
   "source": [
    "x = symbols('x:3')\n",
    "f(*x)"
   ]
  },
  {
   "cell_type": "code",
   "execution_count": 9,
   "metadata": {},
   "outputs": [
    {
     "data": {
      "image/png": "[encoded data removed]",
      "text/latex": [
       "$\\displaystyle \\left[ \\frac{\\partial}{\\partial x_{0}} f{\\left(x_{0},x_{1},x_{2} \\right)}, \\  \\frac{\\partial}{\\partial x_{1}} f{\\left(x_{0},x_{1},x_{2} \\right)}, \\  \\frac{\\partial}{\\partial x_{2}} f{\\left(x_{0},x_{1},x_{2} \\right)}\\right]$"
      ],
      "text/plain": [
       "⎡ ∂                   ∂                   ∂                ⎤\n",
       "⎢───(f(x₀, x₁, x₂)), ───(f(x₀, x₁, x₂)), ───(f(x₀, x₁, x₂))⎥\n",
       "⎣∂x₀                 ∂x₁                 ∂x₂               ⎦"
      ]
     },
     "execution_count": 9,
     "metadata": {},
     "output_type": "execute_result"
    }
   ],
   "source": [
    "[f(*x).diff(xx) for xx in x]"
   ]
  },
  {
   "cell_type": "code",
   "execution_count": null,
   "metadata": {},
   "outputs": [],
   "source": [
    "x = symbols('x')\n",
    "f(x).series(x,0,n=4)"
   ]
  },
  {
   "cell_type": "markdown",
   "metadata": {},
   "source": [
    "### 16.2.4 Elementary functions\n"
   ]
  },
  {
   "cell_type": "code",
   "execution_count": null,
   "metadata": {},
   "outputs": [],
   "source": [
    "x = symbols('x')\n",
    "simplify(cos(x)**2 + sin(x)**2)  # returns 1"
   ]
  },
  {
   "cell_type": "code",
   "execution_count": null,
   "metadata": {},
   "outputs": [],
   "source": [
    "atan(x).diff(x) - 1./(x**2+1)  # returns 0"
   ]
  },
  {
   "cell_type": "code",
   "execution_count": null,
   "metadata": {},
   "outputs": [],
   "source": [
    "import numpy as np\n",
    "import sympy as sym\n",
    "# working with numbers\n",
    "x=3\n",
    "y=np.sin(x)\n",
    "y"
   ]
  },
  {
   "cell_type": "code",
   "execution_count": null,
   "metadata": {},
   "outputs": [],
   "source": [
    "# working with symbols\n",
    "x=sym.symbols('x')\n",
    "y=sym.sin(x)\n",
    "y"
   ]
  },
  {
   "cell_type": "markdown",
   "metadata": {},
   "source": [
    "### 16.2.5 Lambda - functions"
   ]
  },
  {
   "cell_type": "code",
   "execution_count": 36,
   "metadata": {},
   "outputs": [
    {
     "data": {
      "image/png": "[encoded data removed]",
      "text/latex": [
       "$\\displaystyle \\left( v \\mapsto - \\frac{A C \\rho v^{2}}{2} \\right)$"
      ],
      "text/plain": [
       "            2 \n",
       "    -A⋅C⋅ρ⋅v  \n",
       "v ↦ ──────────\n",
       "        2     "
      ]
     },
     "execution_count": 36,
     "metadata": {},
     "output_type": "execute_result"
    }
   ],
   "source": [
    "C,rho,A,v=symbols('C rho A v')\n",
    "# C drag coefficient, A coss-sectional area, rho density\n",
    "# v speed\n",
    "f_drag = Lambda(v,-Rational(1,2)*C*rho*A*v**2)\n",
    "f_drag"
   ]
  },
  {
   "cell_type": "code",
   "execution_count": 37,
   "metadata": {},
   "outputs": [
    {
     "data": {
      "image/png": "[encoded data removed]",
      "text/latex": [
       "$\\displaystyle - 2 A C \\rho$"
      ],
      "text/plain": [
       "-2⋅A⋅C⋅ρ"
      ]
     },
     "execution_count": 37,
     "metadata": {},
     "output_type": "execute_result"
    }
   ],
   "source": [
    "x = symbols('x')\n",
    "f_drag(2)"
   ]
  },
  {
   "cell_type": "code",
   "execution_count": 38,
   "metadata": {},
   "outputs": [
    {
     "data": {
      "image/png": "[encoded data removed]",
      "text/latex": [
       "$\\displaystyle - \\frac{A C \\rho x^{2}}{18}$"
      ],
      "text/plain": [
       "        2 \n",
       "-A⋅C⋅ρ⋅x  \n",
       "──────────\n",
       "    18    "
      ]
     },
     "execution_count": 38,
     "metadata": {},
     "output_type": "execute_result"
    }
   ],
   "source": [
    "f_drag(x/3)"
   ]
  },
  {
   "cell_type": "markdown",
   "metadata": {},
   "source": [
    "It is also possible to create functions in several variables by just providing the first parameter of Lambda with a tuple, as follows for example"
   ]
  },
  {
   "cell_type": "code",
   "execution_count": 39,
   "metadata": {},
   "outputs": [],
   "source": [
    "x,y=symbols('x y')\n",
    "t=Lambda((x,y),sin(x) + cos(2*y))"
   ]
  },
  {
   "cell_type": "markdown",
   "metadata": {},
   "source": [
    "A call to this function can be done in two ways, either by directly providing several arguments:"
   ]
  },
  {
   "cell_type": "code",
   "execution_count": 40,
   "metadata": {},
   "outputs": [
    {
     "data": {
      "image/png": "[encoded data removed]",
      "text/latex": [
       "$\\displaystyle -1$"
      ],
      "text/plain": [
       "-1"
      ]
     },
     "execution_count": 40,
     "metadata": {},
     "output_type": "execute_result"
    }
   ],
   "source": [
    "t(pi,pi/2)  # returns -1"
   ]
  },
  {
   "cell_type": "markdown",
   "metadata": {},
   "source": [
    "Or by unpacking a tuple or list:"
   ]
  },
  {
   "cell_type": "code",
   "execution_count": 41,
   "metadata": {},
   "outputs": [
    {
     "data": {
      "image/png": "[encoded data removed]",
      "text/latex": [
       "$\\displaystyle -1$"
      ],
      "text/plain": [
       "-1"
      ]
     },
     "execution_count": 41,
     "metadata": {},
     "output_type": "execute_result"
    }
   ],
   "source": [
    "p=(pi,pi/2)\n",
    "t(*p)   # returns -1"
   ]
  },
  {
   "cell_type": "markdown",
   "metadata": {},
   "source": [
    "Matrix objects in SymPy even make it possible to define vector-valued functions:"
   ]
  },
  {
   "cell_type": "code",
   "execution_count": 42,
   "metadata": {},
   "outputs": [
    {
     "data": {
      "image/png": "[encoded data removed]",
      "text/latex": [
       "$\\displaystyle \\left( \\left( x, \\  y\\right) \\mapsto \\left[\\begin{matrix}\\sin{\\left(x \\right)} + \\cos{\\left(2 y \\right)}\\\\\\sin{\\left(x \\right)} \\cos{\\left(y \\right)}\\end{matrix}\\right] \\right)$"
      ],
      "text/plain": [
       "         ⎡sin(x) + cos(2⋅y)⎤\n",
       "(x, y) ↦ ⎢                 ⎥\n",
       "         ⎣  sin(x)⋅cos(y)  ⎦"
      ]
     },
     "execution_count": 42,
     "metadata": {},
     "output_type": "execute_result"
    }
   ],
   "source": [
    "F=Lambda((x,y),Matrix([sin(x) + cos(2*y), sin(x)*cos(y)]))\n",
    "F"
   ]
  },
  {
   "cell_type": "markdown",
   "metadata": {},
   "source": [
    "This enables us to compute Jacobians:"
   ]
  },
  {
   "cell_type": "code",
   "execution_count": 45,
   "metadata": {},
   "outputs": [
    {
     "data": {
      "image/png": "[encoded data removed]",
      "text/latex": [
       "$\\displaystyle \\left[\\begin{matrix}\\cos{\\left(x \\right)} & - 2 \\sin{\\left(2 y \\right)}\\\\\\cos{\\left(x \\right)} \\cos{\\left(y \\right)} & - \\sin{\\left(x \\right)} \\sin{\\left(y \\right)}\\end{matrix}\\right]$"
      ],
      "text/plain": [
       "⎡   cos(x)       -2⋅sin(2⋅y)  ⎤\n",
       "⎢                             ⎥\n",
       "⎣cos(x)⋅cos(y)  -sin(x)⋅sin(y)⎦"
      ]
     },
     "execution_count": 45,
     "metadata": {},
     "output_type": "execute_result"
    }
   ],
   "source": [
    "F(x,y).jacobian((x,y))"
   ]
  },
  {
   "cell_type": "markdown",
   "metadata": {},
   "source": [
    "In the case of more variables, it is convenient to use a more compact form to define the function:"
   ]
  },
  {
   "cell_type": "code",
   "execution_count": 46,
   "metadata": {},
   "outputs": [
    {
     "data": {
      "image/png": "[encoded data removed]",
      "text/latex": [
       "$\\displaystyle \\left[\\begin{matrix}\\cos{\\left(x_{0} \\right)} & - 2 \\sin{\\left(2 x_{1} \\right)}\\\\\\cos{\\left(x_{0} \\right)} \\cos{\\left(x_{1} \\right)} & - \\sin{\\left(x_{0} \\right)} \\sin{\\left(x_{1} \\right)}\\end{matrix}\\right]$"
      ],
      "text/plain": [
       "⎡    cos(x₀)        -2⋅sin(2⋅x₁)  ⎤\n",
       "⎢                                 ⎥\n",
       "⎣cos(x₀)⋅cos(x₁)  -sin(x₀)⋅sin(x₁)⎦"
      ]
     },
     "execution_count": 46,
     "metadata": {},
     "output_type": "execute_result"
    }
   ],
   "source": [
    "x=symbols('x:2')\n",
    "F=Lambda(x,Matrix([sin(x[0]) + cos(2*x[1]),sin(x[0])*cos(x[1])]))\n",
    "F(*x).jacobian(x)"
   ]
  },
  {
   "cell_type": "markdown",
   "metadata": {},
   "source": [
    "## 16.3 Symbolic Linear Algebra\n",
    "### 16.3.1 Symbolic matrices\n"
   ]
  },
  {
   "cell_type": "code",
   "execution_count": 10,
   "metadata": {},
   "outputs": [
    {
     "data": {
      "image/png": "[encoded data removed]",
      "text/latex": [
       "$\\displaystyle \\left[\\begin{matrix}\\cos{\\left(\\phi \\right)} & - \\sin{\\left(\\phi \\right)}\\\\\\sin{\\left(\\phi \\right)} & \\cos{\\left(\\phi \\right)}\\end{matrix}\\right]$"
      ],
      "text/plain": [
       "⎡cos(φ)  -sin(φ)⎤\n",
       "⎢               ⎥\n",
       "⎣sin(φ)  cos(φ) ⎦"
      ]
     },
     "execution_count": 10,
     "metadata": {},
     "output_type": "execute_result"
    }
   ],
   "source": [
    "phi=symbols('phi')\n",
    "rotation=Matrix([[cos(phi), -sin(phi)],\n",
    "                 [sin(phi), cos(phi)]])\n",
    "rotation"
   ]
  },
  {
   "cell_type": "code",
   "execution_count": 11,
   "metadata": {},
   "outputs": [
    {
     "data": {
      "image/png": "[encoded data removed]",
      "text/latex": [
       "$\\displaystyle \\left[\\begin{matrix}0 & 0\\\\0 & 0\\end{matrix}\\right]$"
      ],
      "text/plain": [
       "⎡0  0⎤\n",
       "⎢    ⎥\n",
       "⎣0  0⎦"
      ]
     },
     "execution_count": 11,
     "metadata": {},
     "output_type": "execute_result"
    }
   ],
   "source": [
    "simplify(rotation.T*rotation -eye(2))  # returns a 2 x 2 zero matrix"
   ]
  },
  {
   "cell_type": "code",
   "execution_count": 12,
   "metadata": {},
   "outputs": [
    {
     "data": {
      "image/png": "[encoded data removed]",
      "text/latex": [
       "$\\displaystyle \\left[\\begin{matrix}0 & 0\\\\0 & 0\\end{matrix}\\right]$"
      ],
      "text/plain": [
       "⎡0  0⎤\n",
       "⎢    ⎥\n",
       "⎣0  0⎦"
      ]
     },
     "execution_count": 12,
     "metadata": {},
     "output_type": "execute_result"
    }
   ],
   "source": [
    "simplify(rotation.T - rotation.inv())"
   ]
  },
  {
   "cell_type": "code",
   "execution_count": 13,
   "metadata": {},
   "outputs": [
    {
     "data": {
      "image/png": "[encoded data removed]",
      "text/latex": [
       "$\\displaystyle \\left[\\begin{matrix}M_{00} & M_{01} & M_{02}\\\\M_{10} & M_{11} & M_{12}\\\\M_{20} & M_{21} & M_{22}\\end{matrix}\\right]$"
      ],
      "text/plain": [
       "⎡M₀₀  M₀₁  M₀₂⎤\n",
       "⎢             ⎥\n",
       "⎢M₁₀  M₁₁  M₁₂⎥\n",
       "⎢             ⎥\n",
       "⎣M₂₀  M₂₁  M₂₂⎦"
      ]
     },
     "execution_count": 13,
     "metadata": {},
     "output_type": "execute_result"
    }
   ],
   "source": [
    "M = Matrix(3,3, symbols('M:3(:3)'))\n",
    "M"
   ]
  },
  {
   "cell_type": "code",
   "execution_count": 14,
   "metadata": {},
   "outputs": [],
   "source": [
    "def toeplitz(n):\n",
    "    a = symbols('a:'+str(2*n))\n",
    "    f = lambda i,j: a[i-j+n-1]\n",
    "    return Matrix(n,n,f)"
   ]
  },
  {
   "cell_type": "code",
   "execution_count": 15,
   "metadata": {},
   "outputs": [
    {
     "data": {
      "image/png": "[encoded data removed]",
      "text/latex": [
       "$\\displaystyle \\left[\\begin{matrix}a_{4} & a_{3} & a_{2} & a_{1} & a_{0}\\\\a_{5} & a_{4} & a_{3} & a_{2} & a_{1}\\\\a_{6} & a_{5} & a_{4} & a_{3} & a_{2}\\\\a_{7} & a_{6} & a_{5} & a_{4} & a_{3}\\\\a_{8} & a_{7} & a_{6} & a_{5} & a_{4}\\end{matrix}\\right]$"
      ],
      "text/plain": [
       "⎡a₄  a₃  a₂  a₁  a₀⎤\n",
       "⎢                  ⎥\n",
       "⎢a₅  a₄  a₃  a₂  a₁⎥\n",
       "⎢                  ⎥\n",
       "⎢a₆  a₅  a₄  a₃  a₂⎥\n",
       "⎢                  ⎥\n",
       "⎢a₇  a₆  a₅  a₄  a₃⎥\n",
       "⎢                  ⎥\n",
       "⎣a₈  a₇  a₆  a₅  a₄⎦"
      ]
     },
     "execution_count": 15,
     "metadata": {},
     "output_type": "execute_result"
    }
   ],
   "source": [
    "toeplitz(5)"
   ]
  },
  {
   "cell_type": "code",
   "execution_count": 16,
   "metadata": {},
   "outputs": [
    {
     "data": {
      "image/png": "[encoded data removed]",
      "text/latex": [
       "$\\displaystyle \\left[\\begin{matrix}M_{00} & M_{01} & 0\\\\1 & 2 & 3\\\\M_{20} & M_{21} & M_{22}\\end{matrix}\\right]$"
      ],
      "text/plain": [
       "⎡M₀₀  M₀₁   0 ⎤\n",
       "⎢             ⎥\n",
       "⎢ 1    2    3 ⎥\n",
       "⎢             ⎥\n",
       "⎣M₂₀  M₂₁  M₂₂⎦"
      ]
     },
     "execution_count": 16,
     "metadata": {},
     "output_type": "execute_result"
    }
   ],
   "source": [
    "M[0,2]=0  # changes one element\n",
    "M[1,:]=Matrix(1,3,[1,2,3]) # changes an entire row\n",
    "M"
   ]
  },
  {
   "cell_type": "markdown",
   "metadata": {},
   "source": [
    "### 16.3.2 Examples for linear algebra methods in SymPy"
   ]
  },
  {
   "cell_type": "code",
   "execution_count": 17,
   "metadata": {},
   "outputs": [
    {
     "data": {
      "image/png": "[encoded data removed]",
      "text/latex": [
       "$\\displaystyle \\left[\\begin{matrix}\\frac{- \\frac{A_{12} \\left(b_{2} - \\frac{\\left(A_{23} - \\frac{A_{13} A_{21}}{A_{11}}\\right) \\left(b_{3} - \\frac{\\left(A_{32} - \\frac{A_{12} A_{31}}{A_{11}}\\right) \\left(b_{2} - \\frac{A_{21} b_{1}}{A_{11}}\\right)}{A_{22} - \\frac{A_{12} A_{21}}{A_{11}}} - \\frac{A_{31} b_{1}}{A_{11}}\\right)}{A_{33} - \\frac{\\left(A_{23} - \\frac{A_{13} A_{21}}{A_{11}}\\right) \\left(A_{32} - \\frac{A_{12} A_{31}}{A_{11}}\\right)}{A_{22} - \\frac{A_{12} A_{21}}{A_{11}}} - \\frac{A_{13} A_{31}}{A_{11}}} - \\frac{A_{21} b_{1}}{A_{11}}\\right)}{A_{22} - \\frac{A_{12} A_{21}}{A_{11}}} - \\frac{A_{13} \\left(b_{3} - \\frac{\\left(A_{32} - \\frac{A_{12} A_{31}}{A_{11}}\\right) \\left(b_{2} - \\frac{A_{21} b_{1}}{A_{11}}\\right)}{A_{22} - \\frac{A_{12} A_{21}}{A_{11}}} - \\frac{A_{31} b_{1}}{A_{11}}\\right)}{A_{33} - \\frac{\\left(A_{23} - \\frac{A_{13} A_{21}}{A_{11}}\\right) \\left(A_{32} - \\frac{A_{12} A_{31}}{A_{11}}\\right)}{A_{22} - \\frac{A_{12} A_{21}}{A_{11}}} - \\frac{A_{13} A_{31}}{A_{11}}} + b_{1}}{A_{11}}\\\\\\frac{b_{2} - \\frac{\\left(A_{23} - \\frac{A_{13} A_{21}}{A_{11}}\\right) \\left(b_{3} - \\frac{\\left(A_{32} - \\frac{A_{12} A_{31}}{A_{11}}\\right) \\left(b_{2} - \\frac{A_{21} b_{1}}{A_{11}}\\right)}{A_{22} - \\frac{A_{12} A_{21}}{A_{11}}} - \\frac{A_{31} b_{1}}{A_{11}}\\right)}{A_{33} - \\frac{\\left(A_{23} - \\frac{A_{13} A_{21}}{A_{11}}\\right) \\left(A_{32} - \\frac{A_{12} A_{31}}{A_{11}}\\right)}{A_{22} - \\frac{A_{12} A_{21}}{A_{11}}} - \\frac{A_{13} A_{31}}{A_{11}}} - \\frac{A_{21} b_{1}}{A_{11}}}{A_{22} - \\frac{A_{12} A_{21}}{A_{11}}}\\\\\\frac{b_{3} - \\frac{\\left(A_{32} - \\frac{A_{12} A_{31}}{A_{11}}\\right) \\left(b_{2} - \\frac{A_{21} b_{1}}{A_{11}}\\right)}{A_{22} - \\frac{A_{12} A_{21}}{A_{11}}} - \\frac{A_{31} b_{1}}{A_{11}}}{A_{33} - \\frac{\\left(A_{23} - \\frac{A_{13} A_{21}}{A_{11}}\\right) \\left(A_{32} - \\frac{A_{12} A_{31}}{A_{11}}\\right)}{A_{22} - \\frac{A_{12} A_{21}}{A_{11}}} - \\frac{A_{13} A_{31}}{A_{11}}}\\end{matrix}\\right]$"
      ],
      "text/plain": [
       "⎡      ⎛                     ⎛     ⎛      A₁₂⋅A₃₁⎞ ⎛     A₂₁⋅b₁⎞         ⎞         ⎞                                                         ⎤\n",
       "⎢      ⎜                     ⎜     ⎜A₃₂ - ───────⎟⋅⎜b₂ - ──────⎟         ⎟         ⎟                                                         ⎥\n",
       "⎢      ⎜     ⎛      A₁₃⋅A₂₁⎞ ⎜     ⎝        A₁₁  ⎠ ⎝      A₁₁  ⎠   A₃₁⋅b₁⎟         ⎟                                                         ⎥\n",
       "⎢      ⎜     ⎜A₂₃ - ───────⎟⋅⎜b₃ - ───────────────────────────── - ──────⎟         ⎟                                                         ⎥\n",
       "⎢      ⎜     ⎝        A₁₁  ⎠ ⎜                   A₁₂⋅A₂₁            A₁₁  ⎟         ⎟                                                         ⎥\n",
       "⎢      ⎜                     ⎜             A₂₂ - ───────                 ⎟         ⎟                                                         ⎥\n",
       "⎢      ⎜                     ⎝                     A₁₁                   ⎠   A₂₁⋅b₁⎟                                                         ⎥\n",
       "⎢  A₁₂⋅⎜b₂ - ───────────────────────────────────────────────────────────── - ──────⎟                                                         ⎥\n",
       "⎢      ⎜                  ⎛      A₁₃⋅A₂₁⎞ ⎛      A₁₂⋅A₃₁⎞                     A₁₁  ⎟       ⎛     ⎛      A₁₂⋅A₃₁⎞ ⎛     A₂₁⋅b₁⎞         ⎞     ⎥\n",
       "⎢      ⎜                  ⎜A₂₃ - ───────⎟⋅⎜A₃₂ - ───────⎟                          ⎟       ⎜     ⎜A₃₂ - ───────⎟⋅⎜b₂ - ──────⎟         ⎟     ⎥\n",
       "⎢      ⎜                  ⎝        A₁₁  ⎠ ⎝        A₁₁  ⎠   A₁₃⋅A₃₁                ⎟       ⎜     ⎝        A₁₁  ⎠ ⎝      A₁₁  ⎠   A₃₁⋅b₁⎟     ⎥\n",
       "⎢      ⎜            A₃₃ - ─────────────────────────────── - ───────                ⎟   A₁₃⋅⎜b₃ - ───────────────────────────── - ──────⎟     ⎥\n",
       "⎢      ⎜                                 A₁₂⋅A₂₁              A₁₁                  ⎟       ⎜                   A₁₂⋅A₂₁            A₁₁  ⎟     ⎥\n",
       "⎢      ⎜                           A₂₂ - ───────                                   ⎟       ⎜             A₂₂ - ───────                 ⎟     ⎥\n",
       "⎢      ⎝                                   A₁₁                                     ⎠       ⎝                     A₁₁                   ⎠     ⎥\n",
       "⎢- ───────────────────────────────────────────────────────────────────────────────── - ───────────────────────────────────────────────── + b₁⎥\n",
       "⎢                                          A₁₂⋅A₂₁                                            ⎛      A₁₃⋅A₂₁⎞ ⎛      A₁₂⋅A₃₁⎞                ⎥\n",
       "⎢                                    A₂₂ - ───────                                            ⎜A₂₃ - ───────⎟⋅⎜A₃₂ - ───────⎟                ⎥\n",
       "⎢                                            A₁₁                                              ⎝        A₁₁  ⎠ ⎝        A₁₁  ⎠   A₁₃⋅A₃₁      ⎥\n",
       "⎢                                                                                       A₃₃ - ─────────────────────────────── - ───────      ⎥\n",
       "⎢                                                                                                            A₁₂⋅A₂₁              A₁₁        ⎥\n",
       "⎢                                                                                                      A₂₂ - ───────                         ⎥\n",
       "⎢                                                                                                              A₁₁                           ⎥\n",
       "⎢────────────────────────────────────────────────────────────────────────────────────────────────────────────────────────────────────────────⎥\n",
       "⎢                                                                    A₁₁                                                                     ⎥\n",
       "⎢                                                                                                                                            ⎥\n",
       "⎢                                                     ⎛     ⎛      A₁₂⋅A₃₁⎞ ⎛     A₂₁⋅b₁⎞         ⎞                                          ⎥\n",
       "⎢                                                     ⎜     ⎜A₃₂ - ───────⎟⋅⎜b₂ - ──────⎟         ⎟                                          ⎥\n",
       "⎢                                     ⎛      A₁₃⋅A₂₁⎞ ⎜     ⎝        A₁₁  ⎠ ⎝      A₁₁  ⎠   A₃₁⋅b₁⎟                                          ⎥\n",
       "⎢                                     ⎜A₂₃ - ───────⎟⋅⎜b₃ - ───────────────────────────── - ──────⎟                                          ⎥\n",
       "⎢                                     ⎝        A₁₁  ⎠ ⎜                   A₁₂⋅A₂₁            A₁₁  ⎟                                          ⎥\n",
       "⎢                                                     ⎜             A₂₂ - ───────                 ⎟                                          ⎥\n",
       "⎢                                                     ⎝                     A₁₁                   ⎠   A₂₁⋅b₁                                 ⎥\n",
       "⎢                                b₂ - ───────────────────────────────────────────────────────────── - ──────                                 ⎥\n",
       "⎢                                                  ⎛      A₁₃⋅A₂₁⎞ ⎛      A₁₂⋅A₃₁⎞                     A₁₁                                   ⎥\n",
       "⎢                                                  ⎜A₂₃ - ───────⎟⋅⎜A₃₂ - ───────⎟                                                           ⎥\n",
       "⎢                                                  ⎝        A₁₁  ⎠ ⎝        A₁₁  ⎠   A₁₃⋅A₃₁                                                 ⎥\n",
       "⎢                                            A₃₃ - ─────────────────────────────── - ───────                                                 ⎥\n",
       "⎢                                                                 A₁₂⋅A₂₁              A₁₁                                                   ⎥\n",
       "⎢                                                           A₂₂ - ───────                                                                    ⎥\n",
       "⎢                                                                   A₁₁                                                                      ⎥\n",
       "⎢                                ───────────────────────────────────────────────────────────────────────────                                 ⎥\n",
       "⎢                                                                     A₁₂⋅A₂₁                                                                ⎥\n",
       "⎢                                                               A₂₂ - ───────                                                                ⎥\n",
       "⎢                                                                       A₁₁                                                                  ⎥\n",
       "⎢                                                                                                                                            ⎥\n",
       "⎢                                                     ⎛      A₁₂⋅A₃₁⎞ ⎛     A₂₁⋅b₁⎞                                                          ⎥\n",
       "⎢                                                     ⎜A₃₂ - ───────⎟⋅⎜b₂ - ──────⎟                                                          ⎥\n",
       "⎢                                                     ⎝        A₁₁  ⎠ ⎝      A₁₁  ⎠   A₃₁⋅b₁                                                 ⎥\n",
       "⎢                                                b₃ - ───────────────────────────── - ──────                                                 ⎥\n",
       "⎢                                                                   A₁₂⋅A₂₁            A₁₁                                                   ⎥\n",
       "⎢                                                             A₂₂ - ───────                                                                  ⎥\n",
       "⎢                                                                     A₁₁                                                                    ⎥\n",
       "⎢                                              ───────────────────────────────────────────────                                               ⎥\n",
       "⎢                                                    ⎛      A₁₃⋅A₂₁⎞ ⎛      A₁₂⋅A₃₁⎞                                                         ⎥\n",
       "⎢                                                    ⎜A₂₃ - ───────⎟⋅⎜A₃₂ - ───────⎟                                                         ⎥\n",
       "⎢                                                    ⎝        A₁₁  ⎠ ⎝        A₁₁  ⎠   A₁₃⋅A₃₁                                               ⎥\n",
       "⎢                                              A₃₃ - ─────────────────────────────── - ───────                                               ⎥\n",
       "⎢                                                                   A₁₂⋅A₂₁              A₁₁                                                 ⎥\n",
       "⎢                                                             A₂₂ - ───────                                                                  ⎥\n",
       "⎣                                                                     A₁₁                                                                    ⎦"
      ]
     },
     "execution_count": 17,
     "metadata": {},
     "output_type": "execute_result"
    }
   ],
   "source": [
    "A = Matrix(3,3,symbols('A1:4(1:4)'))\n",
    "b = Matrix(3,1,symbols('b1:4'))\n",
    "x = A.LUsolve(b)\n",
    "x"
   ]
  },
  {
   "cell_type": "code",
   "execution_count": 18,
   "metadata": {},
   "outputs": [
    {
     "data": {
      "image/png": "[encoded data removed]",
      "text/latex": [
       "$\\displaystyle \\left[\\begin{matrix}\\frac{A_{12} A_{23} b_{3} - A_{12} A_{33} b_{2} - A_{13} A_{22} b_{3} + A_{13} A_{32} b_{2} + A_{22} A_{33} b_{1} - A_{23} A_{32} b_{1}}{A_{11} A_{22} A_{33} - A_{11} A_{23} A_{32} - A_{12} A_{21} A_{33} + A_{12} A_{23} A_{31} + A_{13} A_{21} A_{32} - A_{13} A_{22} A_{31}}\\\\\\frac{- A_{11} A_{23} b_{3} + A_{11} A_{33} b_{2} + A_{13} A_{21} b_{3} - A_{13} A_{31} b_{2} - A_{21} A_{33} b_{1} + A_{23} A_{31} b_{1}}{A_{11} A_{22} A_{33} - A_{11} A_{23} A_{32} - A_{12} A_{21} A_{33} + A_{12} A_{23} A_{31} + A_{13} A_{21} A_{32} - A_{13} A_{22} A_{31}}\\\\\\frac{A_{11} A_{22} b_{3} - A_{11} A_{32} b_{2} - A_{12} A_{21} b_{3} + A_{12} A_{31} b_{2} + A_{21} A_{32} b_{1} - A_{22} A_{31} b_{1}}{A_{11} A_{22} A_{33} - A_{11} A_{23} A_{32} - A_{12} A_{21} A_{33} + A_{12} A_{23} A_{31} + A_{13} A_{21} A_{32} - A_{13} A_{22} A_{31}}\\end{matrix}\\right]$"
      ],
      "text/plain": [
       "⎡   A₁₂⋅A₂₃⋅b₃ - A₁₂⋅A₃₃⋅b₂ - A₁₃⋅A₂₂⋅b₃ + A₁₃⋅A₃₂⋅b₂ + A₂₂⋅A₃₃⋅b₁ - A₂₃⋅A₃₂⋅b₁   ⎤\n",
       "⎢─────────────────────────────────────────────────────────────────────────────────⎥\n",
       "⎢A₁₁⋅A₂₂⋅A₃₃ - A₁₁⋅A₂₃⋅A₃₂ - A₁₂⋅A₂₁⋅A₃₃ + A₁₂⋅A₂₃⋅A₃₁ + A₁₃⋅A₂₁⋅A₃₂ - A₁₃⋅A₂₂⋅A₃₁⎥\n",
       "⎢                                                                                 ⎥\n",
       "⎢  -A₁₁⋅A₂₃⋅b₃ + A₁₁⋅A₃₃⋅b₂ + A₁₃⋅A₂₁⋅b₃ - A₁₃⋅A₃₁⋅b₂ - A₂₁⋅A₃₃⋅b₁ + A₂₃⋅A₃₁⋅b₁   ⎥\n",
       "⎢─────────────────────────────────────────────────────────────────────────────────⎥\n",
       "⎢A₁₁⋅A₂₂⋅A₃₃ - A₁₁⋅A₂₃⋅A₃₂ - A₁₂⋅A₂₁⋅A₃₃ + A₁₂⋅A₂₃⋅A₃₁ + A₁₃⋅A₂₁⋅A₃₂ - A₁₃⋅A₂₂⋅A₃₁⎥\n",
       "⎢                                                                                 ⎥\n",
       "⎢   A₁₁⋅A₂₂⋅b₃ - A₁₁⋅A₃₂⋅b₂ - A₁₂⋅A₂₁⋅b₃ + A₁₂⋅A₃₁⋅b₂ + A₂₁⋅A₃₂⋅b₁ - A₂₂⋅A₃₁⋅b₁   ⎥\n",
       "⎢─────────────────────────────────────────────────────────────────────────────────⎥\n",
       "⎣A₁₁⋅A₂₂⋅A₃₃ - A₁₁⋅A₂₃⋅A₃₂ - A₁₂⋅A₂₁⋅A₃₃ + A₁₂⋅A₂₃⋅A₃₁ + A₁₃⋅A₂₁⋅A₃₂ - A₁₃⋅A₂₂⋅A₃₁⎦"
      ]
     },
     "execution_count": 18,
     "metadata": {},
     "output_type": "execute_result"
    }
   ],
   "source": [
    "simplify(x)"
   ]
  },
  {
   "cell_type": "markdown",
   "metadata": {},
   "source": [
    "## 16.4 Substitutions"
   ]
  },
  {
   "cell_type": "code",
   "execution_count": null,
   "metadata": {},
   "outputs": [],
   "source": [
    "Let's first consider a simple symbolic expression:"
   ]
  },
  {
   "cell_type": "code",
   "execution_count": null,
   "metadata": {},
   "outputs": [],
   "source": [
    "x, a = symbols('x a')\n",
    "b = x + a\n",
    "b"
   ]
  },
  {
   "cell_type": "code",
   "execution_count": null,
   "metadata": {},
   "outputs": [],
   "source": [
    "x, a = symbols('x a')\n",
    "b = x + a\n",
    "c = b.subs(x,0)   \n",
    "d = c.subs(a,2*a)  \n",
    "print (c)\n",
    "print(d) \n",
    "print (c, d) # returns (a, 2a)"
   ]
  },
  {
   "cell_type": "markdown",
   "metadata": {},
   "source": [
    "The following two statements are equivalent:"
   ]
  },
  {
   "cell_type": "code",
   "execution_count": 27,
   "metadata": {},
   "outputs": [
    {
     "data": {
      "image/png": "[encoded data removed]",
      "text/latex": [
       "$\\displaystyle a$"
      ],
      "text/plain": [
       "a"
      ]
     },
     "execution_count": 27,
     "metadata": {},
     "output_type": "execute_result"
    }
   ],
   "source": [
    "b.subs(x,0)\n",
    "b.subs({x:0})  # a dictionary as argument"
   ]
  },
  {
   "cell_type": "code",
   "execution_count": 28,
   "metadata": {},
   "outputs": [
    {
     "name": "stdout",
     "output_type": "stream",
     "text": [
      "a\n",
      "a\n"
     ]
    }
   ],
   "source": [
    "print(b.subs(x,0))\n",
    "print(b.subs({x:0}))  # a dictionary as argument"
   ]
  },
  {
   "cell_type": "markdown",
   "metadata": {},
   "source": [
    "Dictionaries as arguments allow us to make several substitutions in one step:"
   ]
  },
  {
   "cell_type": "code",
   "execution_count": 29,
   "metadata": {},
   "outputs": [
    {
     "data": {
      "image/png": "[encoded data removed]",
      "text/latex": [
       "$\\displaystyle 2 a$"
      ],
      "text/plain": [
       "2⋅a"
      ]
     },
     "execution_count": 29,
     "metadata": {},
     "output_type": "execute_result"
    }
   ],
   "source": [
    "b.subs({x:0, a:2*a})  # several substitutions in one"
   ]
  },
  {
   "cell_type": "code",
   "execution_count": 30,
   "metadata": {},
   "outputs": [
    {
     "data": {
      "image/png": "[encoded data removed]",
      "text/latex": [
       "$\\displaystyle \\frac{a^{2}}{y} + 2 x$"
      ],
      "text/plain": [
       " 2      \n",
       "a       \n",
       "── + 2⋅x\n",
       "y       "
      ]
     },
     "execution_count": 30,
     "metadata": {},
     "output_type": "execute_result"
    }
   ],
   "source": [
    "x, a, y = symbols('x a y')\n",
    "b = x + a\n",
    "b.subs({a:a*y, x:2*x, y:a/y})\n",
    "b.subs({y:a/y, a:a*y, x:2*x})"
   ]
  },
  {
   "cell_type": "code",
   "execution_count": 31,
   "metadata": {},
   "outputs": [
    {
     "data": {
      "image/png": "[encoded data removed]",
      "text/latex": [
       "$\\displaystyle a y + 2 x$"
      ],
      "text/plain": [
       "a⋅y + 2⋅x"
      ]
     },
     "execution_count": 31,
     "metadata": {},
     "output_type": "execute_result"
    }
   ],
   "source": [
    " b.subs([(y,a/y), (a,a*y), (x,2*x)]) "
   ]
  },
  {
   "cell_type": "code",
   "execution_count": 32,
   "metadata": {},
   "outputs": [
    {
     "data": {
      "image/png": "[encoded data removed]",
      "text/latex": [
       "$\\displaystyle 2 \\cos{\\left(\\alpha \\right)} \\cos{\\left(\\alpha \\left(n - 1\\right) \\right)} - \\cos{\\left(\\alpha \\left(n - 2\\right) \\right)}$"
      ],
      "text/plain": [
       "2⋅cos(α)⋅cos(α⋅(n - 1)) - cos(α⋅(n - 2))"
      ]
     },
     "execution_count": 32,
     "metadata": {},
     "output_type": "execute_result"
    }
   ],
   "source": [
    "n, alpha = symbols('n alpha')\n",
    "b = cos(n*alpha)\n",
    "b.subs(cos(n*alpha), 2*cos(alpha)*cos((n-1)*alpha)-cos((n-2)*alpha))"
   ]
  },
  {
   "cell_type": "code",
   "execution_count": 33,
   "metadata": {},
   "outputs": [
    {
     "data": {
      "image/png": "[encoded data removed]",
      "text/latex": [
       "$\\displaystyle \\left[\\begin{matrix}a_{4} & a_{3} & a_{2} & a_{1} & a_{0}\\\\a_{5} & a_{4} & a_{3} & a_{2} & a_{1}\\\\a_{6} & a_{5} & a_{4} & a_{3} & a_{2}\\\\a_{7} & a_{6} & a_{5} & a_{4} & a_{3}\\\\a_{8} & a_{7} & a_{6} & a_{5} & a_{4}\\end{matrix}\\right]$"
      ],
      "text/plain": [
       "⎡a₄  a₃  a₂  a₁  a₀⎤\n",
       "⎢                  ⎥\n",
       "⎢a₅  a₄  a₃  a₂  a₁⎥\n",
       "⎢                  ⎥\n",
       "⎢a₆  a₅  a₄  a₃  a₂⎥\n",
       "⎢                  ⎥\n",
       "⎢a₇  a₆  a₅  a₄  a₃⎥\n",
       "⎢                  ⎥\n",
       "⎣a₈  a₇  a₆  a₅  a₄⎦"
      ]
     },
     "execution_count": 33,
     "metadata": {},
     "output_type": "execute_result"
    }
   ],
   "source": [
    "T=toeplitz(5)\n",
    "T"
   ]
  },
  {
   "cell_type": "code",
   "execution_count": 34,
   "metadata": {},
   "outputs": [
    {
     "data": {
      "image/png": "[encoded data removed]",
      "text/latex": [
       "$\\displaystyle \\left[\\begin{matrix}a_{4} & a_{3} & 0 & a_{1} & a_{0}\\\\a_{5} & a_{4} & a_{3} & 0 & a_{1}\\\\a_{6} & a_{5} & a_{4} & a_{3} & 0\\\\a_{7} & a_{6} & a_{5} & a_{4} & a_{3}\\\\a_{8} & a_{7} & a_{6} & a_{5} & a_{4}\\end{matrix}\\right]$"
      ],
      "text/plain": [
       "⎡a₄  a₃  0   a₁  a₀⎤\n",
       "⎢                  ⎥\n",
       "⎢a₅  a₄  a₃  0   a₁⎥\n",
       "⎢                  ⎥\n",
       "⎢a₆  a₅  a₄  a₃  0 ⎥\n",
       "⎢                  ⎥\n",
       "⎢a₇  a₆  a₅  a₄  a₃⎥\n",
       "⎢                  ⎥\n",
       "⎣a₈  a₇  a₆  a₅  a₄⎦"
      ]
     },
     "execution_count": 34,
     "metadata": {},
     "output_type": "execute_result"
    }
   ],
   "source": [
    "T.subs(T[0,2],0)"
   ]
  },
  {
   "cell_type": "code",
   "execution_count": 35,
   "metadata": {},
   "outputs": [
    {
     "data": {
      "image/png": "[encoded data removed]",
      "text/latex": [
       "$\\displaystyle \\left[\\begin{matrix}a_{4} & a_{3} & 0 & a_{1} & a_{0}\\\\a_{5} & a_{4} & a_{3} & 0 & a_{1}\\\\a_{6} & a_{5} & a_{4} & a_{3} & 0\\\\a_{7} & a_{6} & a_{5} & a_{4} & a_{3}\\\\a_{8} & a_{7} & a_{6} & a_{5} & a_{4}\\end{matrix}\\right]$"
      ],
      "text/plain": [
       "⎡a₄  a₃  0   a₁  a₀⎤\n",
       "⎢                  ⎥\n",
       "⎢a₅  a₄  a₃  0   a₁⎥\n",
       "⎢                  ⎥\n",
       "⎢a₆  a₅  a₄  a₃  0 ⎥\n",
       "⎢                  ⎥\n",
       "⎢a₇  a₆  a₅  a₄  a₃⎥\n",
       "⎢                  ⎥\n",
       "⎣a₈  a₇  a₆  a₅  a₄⎦"
      ]
     },
     "execution_count": 35,
     "metadata": {},
     "output_type": "execute_result"
    }
   ],
   "source": [
    "a2 = symbols('a2')\n",
    "T.subs(a2,0)"
   ]
  },
  {
   "cell_type": "code",
   "execution_count": null,
   "metadata": {},
   "outputs": [],
   "source": [
    "symbs = [symbols('a'+str(i)) for i in range(19) if i < 3 or i > 5]\n",
    "substitutions=list(zip(symbs,len(symbs)*[0]))\n",
    "T.subs(substitutions)"
   ]
  },
  {
   "cell_type": "markdown",
   "metadata": {},
   "source": [
    "## 16. 5 Evaluating symbolic expressions"
   ]
  },
  {
   "cell_type": "code",
   "execution_count": null,
   "metadata": {},
   "outputs": [],
   "source": [
    "pi.evalf()   # returns 3.14159265358979"
   ]
  },
  {
   "cell_type": "code",
   "execution_count": null,
   "metadata": {},
   "outputs": [],
   "source": [
    "pi.evalf(30)   # returns  3.14159265358979323846264338328"
   ]
  },
  {
   "cell_type": "markdown",
   "metadata": {},
   "source": [
    "### 16.5.1 Example: A study on the convergence order of Newton's Method"
   ]
  },
  {
   "cell_type": "code",
   "execution_count": null,
   "metadata": {},
   "outputs": [],
   "source": [
    "import sympy as sym\n",
    "x = sym.Rational(1,2)\n",
    "xns=[x]\n",
    "\n",
    "for i in range(1,9):\n",
    "    x = (x - sym.atan(x)*(1+x**2)).evalf(3000)\n",
    "    xns.append(x)"
   ]
  },
  {
   "cell_type": "code",
   "execution_count": null,
   "metadata": {},
   "outputs": [],
   "source": [
    "# Test for cubic convergence\n",
    "import numpy as np\n",
    "# Test for cubic convergence\n",
    "print(np.array(np.abs(np.diff(xns[1:]))/np.abs(np.diff(xns[:-1]))**3,dtype=np.float64))"
   ]
  },
  {
   "cell_type": "markdown",
   "metadata": {},
   "source": [
    "### 16.5.2 Converting a symbolic expression into a numeric function"
   ]
  },
  {
   "cell_type": "code",
   "execution_count": null,
   "metadata": {},
   "outputs": [],
   "source": [
    "t=symbols('t')\n",
    "x=[0,t,1]\n",
    "# The Vandermonde Matrix\n",
    "V = Matrix([[0, 0, 1], [t**2, t, 1], [1, 1,1]])\n",
    "y = Matrix([0,1,-1]) # the data vector\n",
    "a = simplify(V.LUsolve(y)) # the coefficients\n",
    "# the leading coefficient as a function of the parameter\n",
    "a2 = Lambda(t,a[0])\n",
    "a2"
   ]
  },
  {
   "cell_type": "code",
   "execution_count": null,
   "metadata": {},
   "outputs": [],
   "source": [
    "leading_coefficient = lambdify(t,a2(t))"
   ]
  },
  {
   "cell_type": "code",
   "execution_count": null,
   "metadata": {},
   "outputs": [],
   "source": [
    "import numpy as np\n",
    "import matplotlib.pyplot as mp\n",
    "t_list= np.linspace(-0.4,1.4,200)\n",
    "ax=mp.subplot(111)\n",
    "lc_list = [leading_coefficient(t) for t in t_list]\n",
    "ax.plot(t_list, lc_list)\n",
    "ax.axis([-.4,1.4,-15,10])\n",
    "ax.set_xlabel('Free parameter $t$')\n",
    "ax.set_ylabel('$a_2(t)$')"
   ]
  }
 ],
 "metadata": {
  "kernelspec": {
   "display_name": "Python 3 (ipykernel)",
   "language": "python",
   "name": "python3"
  },
  "language_info": {
   "codemirror_mode": {
    "name": "ipython",
    "version": 3
   },
   "file_extension": ".py",
   "mimetype": "text/x-python",
   "name": "python",
   "nbconvert_exporter": "python",
   "pygments_lexer": "ipython3",
   "version": "3.10.15"
  }
 },
 "nbformat": 4,
 "nbformat_minor": 4
}
